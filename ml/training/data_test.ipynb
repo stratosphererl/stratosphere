{
 "cells": [
  {
   "cell_type": "code",
   "execution_count": 1,
   "metadata": {},
   "outputs": [],
   "source": [
    "from carball import analyze_replay_file\n",
    "from carball.analysis.analysis_manager import AnalysisManager\n",
    "import logging\n",
    "\n",
    "def parse(replay_path: str) -> AnalysisManager:\n",
    "    return analyze_replay_file(replay_path, logging_level=logging.FATAL)"
   ]
  },
  {
   "cell_type": "code",
   "execution_count": 2,
   "metadata": {},
   "outputs": [],
   "source": [
    "import os\n",
    "from carball.generated.api.metadata.game_metadata_pb2 import Playlist\n",
    "from carball.generated.api.metadata import game_metadata_pb2\n",
    "\n",
    "from DataCleaning import formatFrames\n",
    "\n",
    "replay_directory = os.path.join(os.getcwd(), \"replays\")\n",
    "\n",
    "valid_playlists = [\n",
    "    game_metadata_pb2.UNRANKED_DUELS,\n",
    "    game_metadata_pb2.UNRANKED_DOUBLES,\n",
    "    game_metadata_pb2.UNRANKED_STANDARD,\n",
    "    game_metadata_pb2.CUSTOM_LOBBY,\n",
    "    game_metadata_pb2.RANKED_DUELS,\n",
    "    game_metadata_pb2.RANKED_DOUBLES,\n",
    "    game_metadata_pb2.RANKED_SOLO_STANDARD,\n",
    "    game_metadata_pb2.RANKED_STANDARD,\n",
    "    game_metadata_pb2.TOURNAMENT,\n",
    "]\n",
    "\n",
    "n_duels_columns = 14 * 2 + 10\n",
    "n_doubles_columns = 14 * 4 + 10\n",
    "n_standard_columns = 14 * 6 + 10\n",
    "\n",
    "working_replays = 0\n",
    "failing_replays = 0\n",
    "invalid_columns = 0\n",
    "\n",
    "working_duels = 0\n",
    "working_doubles = 0\n",
    "working_standard = 0\n",
    "\n",
    "am: AnalysisManager"
   ]
  },
  {
   "cell_type": "code",
   "execution_count": null,
   "metadata": {},
   "outputs": [],
   "source": [
    "for replay in os.listdir(replay_directory):\n",
    "    if replay.endswith(\".replay\"):\n",
    "        try:\n",
    "            am = parse(os.path.join(replay_directory, replay))\n",
    "\n",
    "            if am.protobuf_game.game_metadata.playlist not in valid_playlists:\n",
    "                raise Exception(f\"Invalid playlist: {Playlist.Name(am.protobuf_game.game_metadata.playlist)}\\nID: {am.protobuf_game.game_metadata.playlist}\")\n",
    "            \n",
    "            if am.protobuf_game.mutators.game_mutator_index != 0 and am.protobuf_game.mutators.game_mutator_index != -1:\n",
    "                raise Exception(f\"Invalid mutator index: {am.protobuf_game.mutators.game_mutator_index}\")\n",
    "            \n",
    "            try:\n",
    "                frames = formatFrames(am)\n",
    "            except Exception as e:\n",
    "                raise Exception(f\"Failed to format frames: {e}\")\n",
    "            \n",
    "            if len(frames.columns) == n_duels_columns:\n",
    "                working_duels += 1\n",
    "            elif len(frames.columns) == n_doubles_columns:\n",
    "                working_doubles += 1\n",
    "            elif len(frames.columns) == n_standard_columns:\n",
    "                working_standard += 1\n",
    "            else:\n",
    "                invalid_columns += 1\n",
    "                raise Exception(f\"Invalid number of columns: {len(frames.columns)}\")\n",
    "            \n",
    "            working_replays += 1\n",
    "            \n",
    "            print(f\"Successfully parsed {replay}\")\n",
    "        except Exception as e:\n",
    "            failing_replays += 1\n",
    "            print(f\"Failed to parse {replay}\")\n",
    "            print(e)\n"
   ]
  }
 ],
 "metadata": {
  "kernelspec": {
   "display_name": "ml-service-BtJnR09q",
   "language": "python",
   "name": "python3"
  },
  "language_info": {
   "codemirror_mode": {
    "name": "ipython",
    "version": 3
   },
   "file_extension": ".py",
   "mimetype": "text/x-python",
   "name": "python",
   "nbconvert_exporter": "python",
   "pygments_lexer": "ipython3",
   "version": "3.8.5"
  },
  "orig_nbformat": 4
 },
 "nbformat": 4,
 "nbformat_minor": 2
}
